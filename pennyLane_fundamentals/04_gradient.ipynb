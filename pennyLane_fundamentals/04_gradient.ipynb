{
 "cells": [
  {
   "cell_type": "markdown",
   "id": "d281bdd7",
   "metadata": {},
   "source": [
    "Both quantum computing and quantum machine learning, see a qauntum circuit as a function (already seen in the previous notebook), thus we can use the same tools we usually use with the functions, for example first and second order gradient."
   ]
  },
  {
   "cell_type": "code",
   "execution_count": 1,
   "id": "0a0a9062",
   "metadata": {},
   "outputs": [],
   "source": [
    "import pennylane as qml\n",
    "from pennylane import numpy as np\n"
   ]
  },
  {
   "cell_type": "code",
   "execution_count": 5,
   "id": "11461928",
   "metadata": {},
   "outputs": [
    {
     "name": "stdout",
     "output_type": "stream",
     "text": [
      "0: ──RX(0.79)─╭●───────╭X──RX(0.79)─╭●───────╭X─┤  <Z>  State\n",
      "1: ──RX(0.79)─╰X─╭●────│───RX(0.79)─╰X─╭●────│──┤       State\n",
      "2: ──RX(0.79)────╰X─╭●─│───RX(0.79)────╰X─╭●─│──┤       State\n",
      "3: ──RX(0.79)───────╰X─╰●──RX(0.79)───────╰X─╰●─┤       State\n"
     ]
    }
   ],
   "source": [
    "dev1  = qml.device(\"default.qubit\", wires=4)\n",
    "@qml.qnode(dev1)\n",
    "\n",
    "def function(theta1, theta2, theta3, theta4):\n",
    "    qml.RX(theta1, wires=0)\n",
    "    qml.RX(theta2, wires=1)\n",
    "    qml.RX(theta3, wires=2)\n",
    "    qml.RX(theta4, wires=3)\n",
    "    qml.CNOT(wires=[0,1])\n",
    "    qml.CNOT(wires=[1,2])\n",
    "    qml.CNOT(wires=[2,3])\n",
    "    qml.CNOT(wires=[3,0])\n",
    "    qml.RX(theta1, wires=0)\n",
    "    qml.RX(theta2, wires=1)\n",
    "    qml.RX(theta3, wires=2)\n",
    "    qml.RX(theta4, wires=3)\n",
    "    qml.CNOT(wires=[0,1])\n",
    "    qml.CNOT(wires=[1,2])\n",
    "    qml.CNOT(wires=[2,3])\n",
    "    qml.CNOT(wires=[3,0])\n",
    "    qml.expval(qml.PauliZ(0))\n",
    "\n",
    "    return qml.state()\n",
    "\n",
    "\n",
    "print(qml.draw(function)(np.pi/4, np.pi/4, np.pi/4, np.pi/4))\n"
   ]
  },
  {
   "cell_type": "markdown",
   "id": "9aa67ea0",
   "metadata": {},
   "source": [
    "that circuit done above, can be implemented in a easier way:"
   ]
  },
  {
   "cell_type": "code",
   "execution_count": 11,
   "id": "7b35a98f",
   "metadata": {},
   "outputs": [
    {
     "name": "stdout",
     "output_type": "stream",
     "text": [
      "0: ─╭BasicEntanglerLayers(M0)─┤  <Z>\n",
      "1: ─├BasicEntanglerLayers(M0)─┤     \n",
      "2: ─├BasicEntanglerLayers(M0)─┤     \n",
      "3: ─╰BasicEntanglerLayers(M0)─┤     \n",
      "\n",
      "M0 = \n",
      "[[0.1 0.2 0.3 0.4]\n",
      " [0.5 0.6 0.7 0.8]]\n",
      "0: ──RX(0.10)─╭●───────╭X──RX(0.50)─╭●───────╭X─┤  <Z>\n",
      "1: ──RX(0.20)─╰X─╭●────│───RX(0.60)─╰X─╭●────│──┤     \n",
      "2: ──RX(0.30)────╰X─╭●─│───RX(0.70)────╰X─╭●─│──┤     \n",
      "3: ──RX(0.40)───────╰X─╰●──RX(0.80)───────╰X─╰●─┤     \n"
     ]
    }
   ],
   "source": [
    "n_wires = 4\n",
    "dev2 = qml.device(\"default.qubit\", wires = n_wires)\n",
    "\n",
    "@qml.qnode(dev2)\n",
    "def entangler_circuit(weights):\n",
    "  qml.BasicEntanglerLayers(weights, wires = range(n_wires))\n",
    "  return qml.expval(qml.PauliZ(0))\n",
    "\n",
    "\n",
    "print(qml.draw(entangler_circuit)([[0.1,0.2,0.3,0.4],[0.5,0.6,0.7, 0.8]])) #<--- 8 different parameters for 8 different RX gates\n",
    "print(qml.draw(entangler_circuit, level = \"device\")([[0.1,0.2,0.3,0.4],[0.5,0.6,0.7, 0.8]]))"
   ]
  },
  {
   "cell_type": "markdown",
   "id": "defc094c",
   "metadata": {},
   "source": [
    "First EXE: \n"
   ]
  },
  {
   "cell_type": "code",
   "execution_count": null,
   "id": "13b0dfef",
   "metadata": {},
   "outputs": [
    {
     "name": "stdout",
     "output_type": "stream",
     "text": [
      "0: ──RX(0.10)─╭●────╭X──RY(0.20)─┤  <Z>\n",
      "1: ───────────╰X─╭●─│───RY(0.30)─┤     \n",
      "2: ──────────────╰X─╰●──RY(0.40)─┤     \n"
     ]
    }
   ],
   "source": [
    "dev3 = qml.device(\"default.qubit\", wires = 3)\n",
    "\n",
    "@qml.qnode(dev3)\n",
    "def circuit_as_function(params):\n",
    "    \"\"\"\n",
    "    Implements the circuit shown in the codercise statement.\n",
    "    Args:\n",
    "    - params (np.ndarray): [theta_0, theta_1, theta_2, theta_3]\n",
    "    Returns:\n",
    "    - (np.tensor): <Z0>\n",
    "    \"\"\"\n",
    "    qml.RX(params[0], wires = 0)\n",
    "    qml.CNOT(wires = [0,1])\n",
    "    qml.CNOT(wires = [1,2])\n",
    "    qml.CNOT(wires = [2,0])\n",
    "    qml.RY(params[1], wires = 0)\n",
    "    qml.RY(params[2] , wires = 1)\n",
    "    qml.RY(params[3], wires = 2)\n",
    "\n",
    "    return qml.expval(qml.PauliZ(0))\n",
    "\n",
    "print(qml.draw(circuit_as_function, level = \"device\")(np.array([0.1, 0.2, 0.3, 0.4])))\n",
    "\n",
    "# angles = np.linspace(0, 4 * np.pi, 200)\n",
    "# output_values = np.array([circuit_as_function([0.5, t, 0.5, 0.5]) for t in angles]) <--- For the plot"
   ]
  },
  {
   "cell_type": "markdown",
   "id": "78c81b7e",
   "metadata": {},
   "source": [
    "EXE 2: STRONGLY ENTANGLED STATES"
   ]
  },
  {
   "cell_type": "code",
   "execution_count": 22,
   "id": "c031477e",
   "metadata": {},
   "outputs": [
    {
     "name": "stdout",
     "output_type": "stream",
     "text": [
      "The output of your circuit with these weights is <0|Z|0>:  0.3916116303420891\n"
     ]
    }
   ],
   "source": [
    "dev7 = qml.device(\"default.qubit\", wires = 4)\n",
    "\n",
    "@qml.qnode(dev7)\n",
    "def strong_entangler(weights):\n",
    "    \"\"\"\n",
    "    Applies Strongly Entangling Layers to the default initial state\n",
    "    Args:\n",
    "    - weights (np.ndarray): The weights argument for qml.StronglyEntanglingLayers\n",
    "    Returns:\n",
    "    - (np.tensor): <Z0>\n",
    "    \"\"\"\n",
    "\n",
    "    qml.StronglyEntanglingLayers(weights, wires=range(4))\n",
    "    \n",
    "    return qml.expval(qml.PauliZ(0))\n",
    "    \n",
    "shape = qml.StronglyEntanglingLayers.shape(n_layers=2, n_wires=4)\n",
    "test_weights = np.random.random(size=shape)\n",
    "\n",
    "print(\"The output of your circuit with these weights is <0|Z|0>: \", strong_entangler(test_weights))\n"
   ]
  },
  {
   "cell_type": "markdown",
   "id": "23fdbbb9",
   "metadata": {},
   "source": [
    "Now we seen how a circuit could be used as a function, we can use PennyLane to compute the gradient of the circuit.\n",
    "\n",
    "There are many ways to find the gradient, and one of the most famous is the parameter-shift rule:\n",
    "\n",
    "- The simplest parameter shift rule states that, when F represents the expectation value of a quantum circuit with only single-parameter gates then: (dF)/(dtheta) = (F(theta + pi/2) - F(theta - pi/2))/2\n",
    "\n",
    "there exist also generalizations for multi-parameter gates.\n",
    "\n",
    "PENNYLANE FINDS GRADIENTS WITH: qml.jacobian\n",
    "\n",
    "\n"
   ]
  },
  {
   "cell_type": "code",
   "execution_count": 15,
   "id": "4f8ad57e",
   "metadata": {},
   "outputs": [
    {
     "name": "stdout",
     "output_type": "stream",
     "text": [
      "[[ 6.93889390e-18 -1.74813749e-01 -2.66766415e-01 -3.64609810e-01]]\n"
     ]
    }
   ],
   "source": [
    "dev4 = qml.device(\"default.qubit\", wires=4)\n",
    "@qml.qnode(dev4)\n",
    "\n",
    "#We want only one basic entangled layer, so the arguments of the entangler is a list of one list of only one list of 4 elements\n",
    "def entangler(weights):\n",
    "    qml.BasicEntanglerLayers(weights, wires = range(n_wires))\n",
    "    return qml.expval(qml.PauliZ(0))\n",
    "\n",
    "\n",
    "test_weights = np.array([[0.1,0.2,0.3,0.4]], requires_grad=True) #<-- i'm telling to pennylane that this argument is differentiable.\n",
    "print(qml.jacobian(entangler)(test_weights))\n"
   ]
  },
  {
   "cell_type": "markdown",
   "id": "74ca1e9f",
   "metadata": {},
   "source": [
    "In order to use the standard parameter-shift rules we have to change the decorator to the following:\n",
    "@qml.qnode(dev, interface=\"autograd\", diff_method=\"parameter-shift\")\n"
   ]
  },
  {
   "cell_type": "code",
   "execution_count": 16,
   "id": "6df741c1",
   "metadata": {},
   "outputs": [
    {
     "name": "stdout",
     "output_type": "stream",
     "text": [
      "[[ 0.         -0.17481375 -0.26676641 -0.36460981]]\n"
     ]
    }
   ],
   "source": [
    "dev5 = qml.device(\"default.qubit\", wires=4)\n",
    "@qml.qnode(dev5, interface=\"autograd\", diff_method=\"parameter-shift\")\n",
    "\n",
    "#We want only one basic entangled layer, so the arguments of the entangler is a list of one list of only one list of 4 elements\n",
    "def entangler(weights):\n",
    "    qml.BasicEntanglerLayers(weights, wires = range(n_wires))\n",
    "    return qml.expval(qml.PauliZ(0))\n",
    "\n",
    "\n",
    "test_weights = np.array([[0.1,0.2,0.3,0.4]], requires_grad=True) #<-- i'm telling to pennylane that this argument is differentiable.\n",
    "print(qml.jacobian(entangler)(test_weights))"
   ]
  },
  {
   "cell_type": "markdown",
   "id": "566396d6",
   "metadata": {},
   "source": [
    "Sometimes, we may encounter applications in which we want some circuit parameters to be differentiated, while others should remain fixed\n",
    "For example, let's consider two Basic Entangler layers and differentiate only with respect to the parameters diff_weights in the first layer. "
   ]
  },
  {
   "cell_type": "code",
   "execution_count": 20,
   "id": "5d06de27",
   "metadata": {},
   "outputs": [
    {
     "name": "stdout",
     "output_type": "stream",
     "text": [
      "[[-0.30647646  0.06160872  0.         -0.41303853]]\n"
     ]
    }
   ],
   "source": [
    "n_wires = 4\n",
    "dev6 = qml.device(\"default.qubit\", wires=n_wires)\n",
    "@qml.qnode(dev6, interface=\"autograd\", diff_method=\"parameter-shift\")\n",
    "\n",
    "def entangler_fixed(diff_w, fixed_w):\n",
    "    qml.BasicEntanglerLayers(diff_w, wires=range(n_wires))\n",
    "    qml.BasicEntanglerLayers(fixed_w, wires=range(n_wires))\n",
    "    return qml.expval(qml.PauliZ(0))\n",
    "\n",
    "test_diff_weights = np.array([[0.5,0.1,-0.4,0.6]], requires_grad = True)\n",
    "test_fixed_weights = np.array([[0.1,0.2,0.3,0.4]], requires_grad = False)\n",
    "\n",
    "print(qml.jacobian(entangler_fixed)(test_diff_weights, test_fixed_weights))\n"
   ]
  },
  {
   "cell_type": "markdown",
   "id": "5cc4ef51",
   "metadata": {},
   "source": [
    "Exe3: Complete the embedding_and_circuit QNode which depends on a non-trainable array of parameters features and trainable parameters params. The features are the arguments of a qml.AngleEmbedding routine, applied at the start of the circuit to encode some features. Then it is followed by a quantum model that depends on params. PHOTO"
   ]
  },
  {
   "cell_type": "code",
   "execution_count": 23,
   "id": "18a50842",
   "metadata": {},
   "outputs": [
    {
     "name": "stdout",
     "output_type": "stream",
     "text": [
      "The gradient of the circuit is: [-2.96029765e-01  2.77555756e-17  0.00000000e+00]\n"
     ]
    }
   ],
   "source": [
    "dev8 = qml.device(\"default.qubit\", wires = 3)\n",
    "\n",
    "@qml.qnode(dev8)\n",
    "def embedding_and_circuit(features, params):\n",
    "    \"\"\"\n",
    "    A QNode that depends on trainable and non-trainable parameters\n",
    "    Args:\n",
    "    - features (np.ndarray): Non-trainable parameters in the AngleEmbedding routine\n",
    "    - params (np.ndarray): Trainable parameters for the rest of the circuit\n",
    "    Returns:\n",
    "    - (np.tensor): <Z0>\n",
    "    \"\"\"\n",
    "\n",
    "    qml.AngleEmbedding(features, wires = range(3))\n",
    "    qml.CNOT(wires = [0,1])\n",
    "    qml.CNOT(wires = [1,2])\n",
    "    qml.CNOT(wires = [2,0])\n",
    "    qml.RY(params[0], wires = 0)\n",
    "    qml.RY(params[1], wires = 1)\n",
    "    qml.RY(params[2], wires = 2)\n",
    "    \n",
    "    \n",
    "    return qml.expval(qml.PauliZ(0))\n",
    "\n",
    "features = np.array([0.3,0.4,0.6], requires_grad = False)\n",
    "params = np.array([0.4,0.7,0.9], requires_grad = True)\n",
    "print(\"The gradient of the circuit is:\", qml.jacobian(embedding_and_circuit)(features, params))"
   ]
  },
  {
   "cell_type": "markdown",
   "id": "2831198f",
   "metadata": {},
   "source": [
    "So far, we have assumed that the measurement of interest is the expectation value of an observable. However, the output of a circuit could be described by more than one component.\n",
    "For example, if the output of a circuit with K wires are the measurement probabilities, the output can be a real-valued vector o (F_0 ... F_(m-1)) with m = 2^K components.\n",
    "In this case, the gradient of the output is a matrix with m rows and n columns.\n",
    "We can use qml.jacobian to make this computation."
   ]
  },
  {
   "cell_type": "code",
   "execution_count": 24,
   "id": "6bd92caf",
   "metadata": {},
   "outputs": [
    {
     "name": "stdout",
     "output_type": "stream",
     "text": [
      "[[-0.0494192  -0.09908654]\n",
      " [ 0.00049751  0.00024813]\n",
      " [-0.00049751  0.09908654]\n",
      " [ 0.0494192  -0.00024813]]\n"
     ]
    }
   ],
   "source": [
    "dev8 = qml.device(\"default.qubit\", wires = 2)\n",
    "\n",
    "@qml.qnode(dev8)\n",
    "def vector_valued_circuit(params):\n",
    "    qml.RX(params[0], wires = 0)\n",
    "    qml.CNOT(wires=[0,1])\n",
    "    qml.RY(params[1], wires = 0)\n",
    "    return qml.probs(wires = [0,1])\n",
    "\n",
    "sample_params = np.array([0.1,0.2], requires_grad = True)\n",
    "print(qml.jacobian(vector_valued_circuit)(sample_params))"
   ]
  },
  {
   "cell_type": "code",
   "execution_count": 26,
   "id": "2a76d799",
   "metadata": {},
   "outputs": [
    {
     "data": {
      "text/plain": [
       "array([[-0.73068165,  0.19037934],\n",
       "       [ 0.19037934, -0.73068165]])"
      ]
     },
     "execution_count": 26,
     "metadata": {},
     "output_type": "execute_result"
    }
   ],
   "source": [
    "dev9 = qml.device(\"default.qubit\", wires = 2)\n",
    "\n",
    "@qml.qnode(dev9, diff_method = \"parameter-shift\", max_diff = 2)\n",
    "def scalar_valued_circuit(params):\n",
    "  qml.RX(params[0], wires = 0)\n",
    "  qml.CNOT(wires=[0,1])\n",
    "  qml.RY(params[1], wires = 0)\n",
    "  return qml.expval(qml.PauliZ(0))\n",
    "\n",
    "test_params = np.array([0.7,0.3], requires_grad = True)\n",
    "qml.jacobian(qml.jacobian(scalar_valued_circuit))(test_params)"
   ]
  },
  {
   "cell_type": "markdown",
   "id": "09df1581",
   "metadata": {},
   "source": [
    "Now that we know how to interpret circuits as functions and take their derivatives, let's use this knowledge to solve optimization problems.\n",
    "We would like to know what is the minimum expectation value that the circuit output can have.\n",
    "This means that we're treating the circuit as a cost function, that is, a function we'd like to minimize. \n",
    "\n",
    "We will use a gradient discent algorithm.\n"
   ]
  },
  {
   "cell_type": "code",
   "execution_count": 29,
   "id": "0fd063e1",
   "metadata": {},
   "outputs": [
    {
     "name": "stdout",
     "output_type": "stream",
     "text": [
      "(tensor([3.14159265e+00, 4.86221075e-17], requires_grad=True), -1.0)\n"
     ]
    }
   ],
   "source": [
    "#Let's begin with a simple differentiable circuit.\n",
    "dev10 = qml.device(\"default.qubit\", wires = 2)\n",
    "\n",
    "@qml.qnode(dev10, diff_method = \"parameter-shift\")\n",
    "def scalar_valued_circuit(params):\n",
    "    qml.RX(params[0], wires = 0)\n",
    "    qml.CNOT(wires=[0,1])\n",
    "    qml.RY(params[1], wires = 0)\n",
    "    return qml.expval(qml.PauliZ(0))\n",
    "\n",
    "def optimize(cost_function, init_params, *steps):\n",
    "\n",
    "    opt = qml.GradientDescentOptimizer(stepsize = 0.4)\n",
    "    steps = 100\n",
    "    params = init_params\n",
    "\n",
    "    for i in range(steps):\n",
    "      params = opt.step(cost_function, params)\n",
    "\n",
    "    return params, cost_function(params)\n",
    "\n",
    "#This routine returns the parameters for which the cost_function is optimized and the minimum value of cost_function.\n",
    "initial_parameters = np.array([0.7,0.3], requires_grad = True)\n",
    "print(optimize(scalar_valued_circuit, initial_parameters, 100))\n"
   ]
  }
 ],
 "metadata": {
  "kernelspec": {
   "display_name": "base",
   "language": "python",
   "name": "python3"
  },
  "language_info": {
   "codemirror_mode": {
    "name": "ipython",
    "version": 3
   },
   "file_extension": ".py",
   "mimetype": "text/x-python",
   "name": "python",
   "nbconvert_exporter": "python",
   "pygments_lexer": "ipython3",
   "version": "3.9.13"
  }
 },
 "nbformat": 4,
 "nbformat_minor": 5
}
