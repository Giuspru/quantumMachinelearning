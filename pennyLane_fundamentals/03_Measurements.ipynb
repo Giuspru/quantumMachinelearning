{
 "cells": [
  {
   "cell_type": "markdown",
   "metadata": {},
   "source": [
    "In this notebook, we will face how to measure the state of a quantum system.\n",
    "And we'll understand the role of observables in quantum mechanics."
   ]
  },
  {
   "cell_type": "code",
   "execution_count": 1,
   "metadata": {},
   "outputs": [],
   "source": [
    "import pennylane as qml\n",
    "from pennylane import numpy as np\n"
   ]
  },
  {
   "cell_type": "markdown",
   "metadata": {},
   "source": [
    "We provide a simple example of two qbits, where the first one is in the state |0>, and the second one is in the state |1>.\n",
    "In order to set this configuration, we leave inalterated the first qbit, and we apply a PauliX gate to the second one."
   ]
  },
  {
   "cell_type": "code",
   "execution_count": 2,
   "metadata": {},
   "outputs": [
    {
     "name": "stdout",
     "output_type": "stream",
     "text": [
      "[0 1]\n",
      "{'01': tensor(1, requires_grad=True)}\n",
      "[0. 1. 0. 0.]\n"
     ]
    }
   ],
   "source": [
    "dev1 = qml.device(\"default.qubit\", wires=2, shots=1)\n",
    "@qml.qnode(dev1)\n",
    "\n",
    "def simpleCircuit():\n",
    "    qml.PauliX(wires=1)\n",
    "\n",
    "    return qml.sample(), qml.counts(), qml.probs()\n",
    "\n",
    "stateArray, stateDict, stateArrayprobs = simpleCircuit()\n",
    "print(stateArray)\n",
    "print(stateDict)\n",
    "print(stateArrayprobs)"
   ]
  },
  {
   "cell_type": "markdown",
   "metadata": {},
   "source": [
    "You want to take a single sample from both qubits: Exe1\n",
    "Both of 2 qubits are in state 0, when we implement the hadamrd gate on the first qubit, it becomes a superposition of 0 and 1 with the same ampitude.\n",
    "If when i do the measurement it is on |0> state then nothing hapend to the second qubit.\n",
    "If, in the moment i compute the measurement, the first qubit is in tate |1> we flip the second qubit from 0 to 1\n"
   ]
  },
  {
   "cell_type": "code",
   "execution_count": 3,
   "metadata": {},
   "outputs": [
    {
     "name": "stdout",
     "output_type": "stream",
     "text": [
      "{'00': tensor(46, requires_grad=True), '11': tensor(54, requires_grad=True)}\n"
     ]
    }
   ],
   "source": [
    "dev1 = qml.device(\"default.qubit\" , wires=2, shots=100)\n",
    "\n",
    "@qml.qnode(dev1)\n",
    "def circuit():\n",
    "    \"\"\"\n",
    "    This quantum function implements the circuit shown above\n",
    "    and should return a sample from all qubits\n",
    "    \"\"\"\n",
    "\n",
    "    qml.Hadamard(wires=0)\n",
    "    qml.CNOT(wires=[0,1])\n",
    "\n",
    "    return qml.sample() , qml.counts()\n",
    "\n",
    "arrayCircuit, dictionaryCircuit = circuit()\n",
    "print(dictionaryCircuit)\n"
   ]
  },
  {
   "cell_type": "markdown",
   "metadata": {},
   "source": [
    "Probs relative to full circuit, first wire & second wire"
   ]
  },
  {
   "cell_type": "code",
   "execution_count": null,
   "metadata": {},
   "outputs": [
    {
     "name": "stdout",
     "output_type": "stream",
     "text": [
      "[0. 0. 1. 0.] \n",
      "\n",
      "[0. 1.] \n",
      "\n",
      "[1. 0.] \n",
      "\n"
     ]
    }
   ],
   "source": [
    "dev2 = qml.device(\"default.qubit\", wires=2)\n",
    "@qml.qnode(dev2)\n",
    "def circuit2():\n",
    "    qml.PauliX(wires=0)\n",
    "    return qml.probs() , qml.probs(wires=[0]), qml.probs(wires=[1])\n",
    "\n",
    "probFull, prob0, prob1  =  circuit2()\n",
    "print(probFull, \"Probability for: |00> |01> |10> |11>\\n\")\n",
    "print(prob0, \"Probability of first qubit in wire 0: |0> |1>\\n\")\n",
    "print(prob1, \"Probability of second qubit in wire 1: |0> |1>\\n\")"
   ]
  },
  {
   "cell_type": "markdown",
   "metadata": {},
   "source": [
    "EXPECTATION VALUES are the most used measurements especially in optimization and quantum machine learning, because they provide informations about the state of the system.\n",
    "\n",
    "REMEMBER: the expectation value for an operator OP on a particular state |ψ⟩ is defined as: ⟨ψ|OP|ψ⟩\n",
    "If we take back the circuit from previous code, we have two qubits, initially both are in the state |0>. Then we apply a x gate on the second so it flips to |1> state. \n",
    "\n",
    "If we measure the expected value of Z operator on the first qubit, we expect to get 1."
   ]
  },
  {
   "cell_type": "code",
   "execution_count": 8,
   "metadata": {},
   "outputs": [
    {
     "name": "stdout",
     "output_type": "stream",
     "text": [
      "1.0\n"
     ]
    }
   ],
   "source": [
    "dev3 = qml.device(\"default.qubit\", wires=2, shots = 1)\n",
    "@qml.qnode(dev3)\n",
    "\n",
    "def circuit3():\n",
    "    qml.PauliX(wires = 1)\n",
    "    return qml.expval(qml.PauliZ(0))\n",
    "\n",
    "expectedZvalue = circuit3()\n",
    "print(expectedZvalue)"
   ]
  },
  {
   "cell_type": "code",
   "execution_count": 10,
   "metadata": {},
   "outputs": [
    {
     "name": "stdout",
     "output_type": "stream",
     "text": [
      "0.16666666666666669\n"
     ]
    }
   ],
   "source": [
    "dev4 = qml.device(\"default.qubit\", wires = 2)\n",
    "\n",
    "@qml.qnode(dev4)\n",
    "def expval_circuit():\n",
    "    \n",
    "    qml.RY(np.pi/4, wires = 0)\n",
    "    qml.RX(np.pi/3, wires = 1)\n",
    "    qml.CNOT(wires = [0, 1])\n",
    "    \n",
    "    return qml.expval(1/3*qml.PauliZ(0) @ qml.PauliZ(1)) #---> tensor product between the two Pauli Z operators computed on the 2 different qubits\n",
    "\n",
    "\n",
    "expectedValue= expval_circuit()\n",
    "print(expectedValue)"
   ]
  },
  {
   "cell_type": "markdown",
   "metadata": {},
   "source": [
    "We can implement also a custom matrix, and compute the expected value of the custom matrix on a specific qubit."
   ]
  },
  {
   "cell_type": "code",
   "execution_count": 12,
   "metadata": {},
   "outputs": [
    {
     "name": "stdout",
     "output_type": "stream",
     "text": [
      "0.0\n"
     ]
    }
   ],
   "source": [
    "\n",
    "dev5 = qml.device(\"default.qubit\", wires = 2)\n",
    "\n",
    "A = np.array([[1, 0], [0, -1]])\n",
    "\n",
    "@qml.qnode(dev5)\n",
    "def circuit5():\n",
    "    \"\"\"\n",
    "    This quantum function implements a Bell state and\n",
    "    should return the expectation value the observable\n",
    "    corresponding to the matrix A applied to the first qubit\n",
    "    \"\"\"\n",
    "    qml.Hadamard(wires=0)\n",
    "    qml.CNOT(wires=[0,1])\n",
    "    return qml.expval(qml.Hermitian(A, wires=0))  #---> <0|A|0>\n",
    "\n",
    "expectedAvalue = circuit5()\n",
    "print(expectedAvalue)\n"
   ]
  },
  {
   "cell_type": "markdown",
   "metadata": {},
   "source": [
    "We can implement expval in parallel for all the qubits"
   ]
  },
  {
   "cell_type": "code",
   "execution_count": 22,
   "metadata": {},
   "outputs": [
    {
     "name": "stdout",
     "output_type": "stream",
     "text": [
      "0.0\n",
      "0.0\n"
     ]
    }
   ],
   "source": [
    "dev6 = qml.device(\"default.qubit\", wires=2,)\n",
    "@qml.qnode(dev6)\n",
    "\n",
    "def circuit():\n",
    "    qml.Hadamard(wires=0)\n",
    "    qml.CNOT(wires=[0,1])\n",
    "    return qml.expval(qml.PauliZ(0)) , qml.expval(qml.PauliZ(1)) #It provides a tuple\n",
    "\n",
    "bothComputed, bothcomputed2 = circuit()\n",
    "print(bothComputed)\n",
    "print(bothcomputed2)\n"
   ]
  },
  {
   "cell_type": "code",
   "execution_count": 26,
   "metadata": {},
   "outputs": [
    {
     "name": "stdout",
     "output_type": "stream",
     "text": [
      "[0.5 0.  0.  0.5]\n"
     ]
    }
   ],
   "source": [
    "dev7 = qml.device(\"default.qubit\", wires=2)\n",
    "@qml.qnode(dev7)\n",
    "\n",
    "def circuit():\n",
    "    qml.Hadamard(wires=0)\n",
    "    qml.CNOT(wires=[0,1])\n",
    "    return qml.probs()\n",
    "\n",
    "a = circuit()\n",
    "print(a)"
   ]
  }
 ],
 "metadata": {
  "kernelspec": {
   "display_name": "base",
   "language": "python",
   "name": "python3"
  },
  "language_info": {
   "codemirror_mode": {
    "name": "ipython",
    "version": 3
   },
   "file_extension": ".py",
   "mimetype": "text/x-python",
   "name": "python",
   "nbconvert_exporter": "python",
   "pygments_lexer": "ipython3",
   "version": "3.9.13"
  }
 },
 "nbformat": 4,
 "nbformat_minor": 2
}
