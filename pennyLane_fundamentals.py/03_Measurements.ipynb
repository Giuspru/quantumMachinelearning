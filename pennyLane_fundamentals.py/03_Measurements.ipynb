{
 "cells": [
  {
   "cell_type": "markdown",
   "metadata": {},
   "source": [
    "In this notebook, we will face how to measure the state of a quantum system.\n",
    "And we'll understand the role of observables in quantum mechanics."
   ]
  },
  {
   "cell_type": "code",
   "execution_count": null,
   "metadata": {},
   "outputs": [],
   "source": [
    "import pennylane as qml\n",
    "from pennylane import numpy as np\n"
   ]
  },
  {
   "cell_type": "markdown",
   "metadata": {},
   "source": [
    "We provide a simple example of two qbits, where the first one is in the state |0>, and the second one is in the state |1>.\n",
    "In order to set this configuration, we leave inalterated the first qbit, and we apply a PauliX gate to the second one."
   ]
  },
  {
   "cell_type": "code",
   "execution_count": 13,
   "metadata": {},
   "outputs": [
    {
     "name": "stdout",
     "output_type": "stream",
     "text": [
      "[0 1]\n",
      "{'01': tensor(1, requires_grad=True)}\n",
      "[0. 1. 0. 0.]\n"
     ]
    }
   ],
   "source": [
    "dev1 = qml.device(\"default.qubit\", wires=2, shots=1)\n",
    "@qml.qnode(dev1)\n",
    "\n",
    "def simpleCircuit():\n",
    "    qml.PauliX(wires=1)\n",
    "\n",
    "    return qml.sample(), qml.counts(), qml.probs()\n",
    "\n",
    "stateArray, stateDict, stateArrayprobs = simpleCircuit()\n",
    "print(stateArray)\n",
    "print(stateDict)\n",
    "print(stateArrayprobs)"
   ]
  },
  {
   "cell_type": "markdown",
   "metadata": {},
   "source": [
    "You want to take a single sample from both qubits: Exe1\n",
    "Both of 2 qubits are in state 0, when we implement the hadamrd gate on the first qubit, it becomes a superposition of 0 and 1 with the same ampitude.\n",
    "If when i do the measurement it is on |0> state then nothing hapend to the second qubit.\n",
    "If, in the moment i compute the measurement, the first qubit is in tate |1> we flip the second qubit from 0 to 1\n"
   ]
  },
  {
   "cell_type": "code",
   "execution_count": 38,
   "metadata": {},
   "outputs": [
    {
     "name": "stdout",
     "output_type": "stream",
     "text": [
      "{'00': tensor(52, requires_grad=True), '11': tensor(48, requires_grad=True)}\n"
     ]
    }
   ],
   "source": [
    "dev1 = qml.device(\"default.qubit\" , wires=2, shots=100)\n",
    "\n",
    "@qml.qnode(dev1)\n",
    "def circuit():\n",
    "    \"\"\"\n",
    "    This quantum function implements the circuit shown above\n",
    "    and should return a sample from all qubits\n",
    "    \"\"\"\n",
    "\n",
    "    qml.Hadamard(wires=0)\n",
    "    qml.CNOT(wires=[0,1])\n",
    "\n",
    "    return qml.sample() , qml.counts()\n",
    "\n",
    "arrayCircuit, dictionaryCircuit = circuit()\n",
    "print(dictionaryCircuit)\n"
   ]
  }
 ],
 "metadata": {
  "kernelspec": {
   "display_name": "base",
   "language": "python",
   "name": "python3"
  },
  "language_info": {
   "codemirror_mode": {
    "name": "ipython",
    "version": 3
   },
   "file_extension": ".py",
   "mimetype": "text/x-python",
   "name": "python",
   "nbconvert_exporter": "python",
   "pygments_lexer": "ipython3",
   "version": "3.9.13"
  }
 },
 "nbformat": 4,
 "nbformat_minor": 2
}
